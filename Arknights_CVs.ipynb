{
 "cells": [
  {
   "cell_type": "markdown",
   "id": "1b59dad7",
   "metadata": {
    "id": "1b59dad7"
   },
   "source": [
    "# Arknights CV Web Scraping"
   ]
  },
  {
   "cell_type": "markdown",
   "id": "552f1b63",
   "metadata": {
    "id": "552f1b63"
   },
   "source": [
    "<b>Author:<b/> <a href=\"https://github.com/sdkvictor\">sdkvictor<a/>"
   ]
  },
  {
   "cell_type": "markdown",
   "id": "9781dc56",
   "metadata": {
    "id": "9781dc56"
   },
   "source": [
    "<b>Last update:<b/> 6/26/2022"
   ]
  },
  {
   "cell_type": "code",
   "execution_count": 1,
   "id": "49ef9047",
   "metadata": {
    "id": "49ef9047",
    "scrolled": true
   },
   "outputs": [
    {
     "name": "stdout",
     "output_type": "stream",
     "text": [
      "Requirement already satisfied: selenium in c:\\users\\victo\\appdata\\local\\programs\\python\\python311\\lib\\site-packages (4.7.2)\n",
      "Requirement already satisfied: urllib3[socks]~=1.26 in c:\\users\\victo\\appdata\\local\\programs\\python\\python311\\lib\\site-packages (from selenium) (1.26.13)\n",
      "Requirement already satisfied: trio~=0.17 in c:\\users\\victo\\appdata\\local\\programs\\python\\python311\\lib\\site-packages (from selenium) (0.22.0)\n",
      "Requirement already satisfied: trio-websocket~=0.9 in c:\\users\\victo\\appdata\\local\\programs\\python\\python311\\lib\\site-packages (from selenium) (0.9.2)\n",
      "Requirement already satisfied: certifi>=2021.10.8 in c:\\users\\victo\\appdata\\local\\programs\\python\\python311\\lib\\site-packages (from selenium) (2022.12.7)\n",
      "Requirement already satisfied: attrs>=19.2.0 in c:\\users\\victo\\appdata\\local\\programs\\python\\python311\\lib\\site-packages (from trio~=0.17->selenium) (22.2.0)\n",
      "Requirement already satisfied: sortedcontainers in c:\\users\\victo\\appdata\\local\\programs\\python\\python311\\lib\\site-packages (from trio~=0.17->selenium) (2.4.0)\n",
      "Requirement already satisfied: async-generator>=1.9 in c:\\users\\victo\\appdata\\local\\programs\\python\\python311\\lib\\site-packages (from trio~=0.17->selenium) (1.10)\n",
      "Requirement already satisfied: idna in c:\\users\\victo\\appdata\\local\\programs\\python\\python311\\lib\\site-packages (from trio~=0.17->selenium) (3.4)\n",
      "Requirement already satisfied: outcome in c:\\users\\victo\\appdata\\local\\programs\\python\\python311\\lib\\site-packages (from trio~=0.17->selenium) (1.2.0)\n",
      "Requirement already satisfied: sniffio in c:\\users\\victo\\appdata\\local\\programs\\python\\python311\\lib\\site-packages (from trio~=0.17->selenium) (1.3.0)\n",
      "Requirement already satisfied: cffi>=1.14 in c:\\users\\victo\\appdata\\local\\programs\\python\\python311\\lib\\site-packages (from trio~=0.17->selenium) (1.15.1)\n",
      "Requirement already satisfied: wsproto>=0.14 in c:\\users\\victo\\appdata\\local\\programs\\python\\python311\\lib\\site-packages (from trio-websocket~=0.9->selenium) (1.2.0)\n",
      "Requirement already satisfied: PySocks!=1.5.7,<2.0,>=1.5.6 in c:\\users\\victo\\appdata\\local\\programs\\python\\python311\\lib\\site-packages (from urllib3[socks]~=1.26->selenium) (1.7.1)\n",
      "Requirement already satisfied: pycparser in c:\\users\\victo\\appdata\\local\\programs\\python\\python311\\lib\\site-packages (from cffi>=1.14->trio~=0.17->selenium) (2.21)\n",
      "Requirement already satisfied: h11<1,>=0.9.0 in c:\\users\\victo\\appdata\\local\\programs\\python\\python311\\lib\\site-packages (from wsproto>=0.14->trio-websocket~=0.9->selenium) (0.14.0)\n"
     ]
    }
   ],
   "source": [
    "!pip install -U selenium"
   ]
  },
  {
   "cell_type": "code",
   "execution_count": 2,
   "id": "8a38d4ea",
   "metadata": {
    "id": "8a38d4ea"
   },
   "outputs": [
    {
     "name": "stdout",
     "output_type": "stream",
     "text": [
      "Requirement already satisfied: webdriver-manager in c:\\users\\victo\\appdata\\local\\programs\\python\\python311\\lib\\site-packages (3.8.5)\n",
      "Requirement already satisfied: requests in c:\\users\\victo\\appdata\\local\\programs\\python\\python311\\lib\\site-packages (from webdriver-manager) (2.28.1)\n",
      "Requirement already satisfied: python-dotenv in c:\\users\\victo\\appdata\\local\\programs\\python\\python311\\lib\\site-packages (from webdriver-manager) (0.21.0)\n",
      "Requirement already satisfied: tqdm in c:\\users\\victo\\appdata\\local\\programs\\python\\python311\\lib\\site-packages (from webdriver-manager) (4.64.1)\n",
      "Requirement already satisfied: packaging in c:\\users\\victo\\appdata\\local\\programs\\python\\python311\\lib\\site-packages (from webdriver-manager) (22.0)\n",
      "Requirement already satisfied: charset-normalizer<3,>=2 in c:\\users\\victo\\appdata\\local\\programs\\python\\python311\\lib\\site-packages (from requests->webdriver-manager) (2.1.1)\n",
      "Requirement already satisfied: idna<4,>=2.5 in c:\\users\\victo\\appdata\\local\\programs\\python\\python311\\lib\\site-packages (from requests->webdriver-manager) (3.4)\n",
      "Requirement already satisfied: urllib3<1.27,>=1.21.1 in c:\\users\\victo\\appdata\\local\\programs\\python\\python311\\lib\\site-packages (from requests->webdriver-manager) (1.26.13)\n",
      "Requirement already satisfied: certifi>=2017.4.17 in c:\\users\\victo\\appdata\\local\\programs\\python\\python311\\lib\\site-packages (from requests->webdriver-manager) (2022.12.7)\n",
      "Requirement already satisfied: colorama in c:\\users\\victo\\appdata\\local\\programs\\python\\python311\\lib\\site-packages (from tqdm->webdriver-manager) (0.4.6)\n"
     ]
    }
   ],
   "source": [
    "!pip install webdriver-manager"
   ]
  },
  {
   "cell_type": "code",
   "execution_count": 3,
   "id": "2523dc7b",
   "metadata": {},
   "outputs": [
    {
     "name": "stdout",
     "output_type": "stream",
     "text": [
      "Requirement already satisfied: pandas in c:\\users\\victo\\appdata\\local\\programs\\python\\python311\\lib\\site-packages (1.5.2)\n",
      "Requirement already satisfied: python-dateutil>=2.8.1 in c:\\users\\victo\\appdata\\local\\programs\\python\\python311\\lib\\site-packages (from pandas) (2.8.2)\n",
      "Requirement already satisfied: pytz>=2020.1 in c:\\users\\victo\\appdata\\local\\programs\\python\\python311\\lib\\site-packages (from pandas) (2022.7)\n",
      "Requirement already satisfied: numpy>=1.21.0 in c:\\users\\victo\\appdata\\local\\programs\\python\\python311\\lib\\site-packages (from pandas) (1.24.1)\n",
      "Requirement already satisfied: six>=1.5 in c:\\users\\victo\\appdata\\local\\programs\\python\\python311\\lib\\site-packages (from python-dateutil>=2.8.1->pandas) (1.16.0)\n"
     ]
    }
   ],
   "source": [
    "!pip install pandas"
   ]
  },
  {
   "cell_type": "markdown",
   "id": "377fb62b",
   "metadata": {
    "id": "377fb62b"
   },
   "source": [
    "## Setup for Selenium"
   ]
  },
  {
   "cell_type": "code",
   "execution_count": 4,
   "id": "a7dbdf5e",
   "metadata": {
    "id": "a7dbdf5e",
    "outputId": "b4a5a657-3690-46a2-ab13-3c12ecb0fd26"
   },
   "outputs": [
    {
     "data": {
      "text/plain": [
       "'4.7.2'"
      ]
     },
     "execution_count": 4,
     "metadata": {},
     "output_type": "execute_result"
    }
   ],
   "source": [
    "import selenium\n",
    "selenium.__version__"
   ]
  },
  {
   "cell_type": "code",
   "execution_count": 5,
   "id": "505dd059",
   "metadata": {
    "id": "505dd059"
   },
   "outputs": [],
   "source": [
    "from selenium import webdriver\n",
    "from selenium.webdriver.chrome.service import Service\n",
    "from webdriver_manager.chrome import ChromeDriverManager"
   ]
  },
  {
   "cell_type": "code",
   "execution_count": 6,
   "id": "6c1f3c71",
   "metadata": {
    "id": "6c1f3c71"
   },
   "outputs": [],
   "source": [
    "chrome_options = webdriver.ChromeOptions()\n",
    "chrome_options.binary_location = \"C:/Program Files/Google/Chrome Beta/Application/chrome.exe\" #CHANGE THIS TO YOUR CHROME PATH"
   ]
  },
  {
   "cell_type": "code",
   "execution_count": 7,
   "id": "1d6745ba",
   "metadata": {
    "id": "1d6745ba"
   },
   "outputs": [],
   "source": [
    "service = Service(executable_path=\"C:/chromedriver.exe\") #CHANGE THIS TO YOUR CHROMEDRIVER EXE PATH\n",
    "driver = webdriver.Chrome(options=chrome_options, service=service)"
   ]
  },
  {
   "cell_type": "markdown",
   "id": "6c1abd96",
   "metadata": {
    "id": "6c1abd96"
   },
   "source": [
    "## Initializing the Dataframe"
   ]
  },
  {
   "cell_type": "code",
   "execution_count": 8,
   "id": "73ef1e1c",
   "metadata": {},
   "outputs": [],
   "source": [
    "import pandas as pd\n",
    "from selenium.webdriver.common.by import By"
   ]
  },
  {
   "cell_type": "code",
   "execution_count": 9,
   "id": "498eb3da",
   "metadata": {},
   "outputs": [],
   "source": [
    "#Create the dataframe\n",
    "df = pd.DataFrame(columns = ['CV', 'Roles', 'Other Roles'])"
   ]
  },
  {
   "cell_type": "code",
   "execution_count": 10,
   "id": "84ab8315",
   "metadata": {},
   "outputs": [],
   "source": [
    "page_urls = ['https://arknights.fandom.com/wiki/Character_voices/Japanese/A-I', 'https://arknights.fandom.com/wiki/Character_voices/Japanese/J-Q', 'https://arknights.fandom.com/wiki/Character_voices/Japanese/R-Z']"
   ]
  },
  {
   "cell_type": "markdown",
   "id": "d68b42fe",
   "metadata": {
    "id": "d68b42fe"
   },
   "source": [
    "## Getting data from page table"
   ]
  },
  {
   "cell_type": "code",
   "execution_count": 11,
   "id": "53ad3d0d",
   "metadata": {},
   "outputs": [],
   "source": [
    "# Access each page \n",
    "for url in page_urls:    \n",
    "    driver.get(url)\n",
    "    #Get the list of cvs\n",
    "    cv_list = driver.find_element(By.CLASS_NAME, \"mrfz-wtable\")\n",
    "    #Extract the values of the cvs list\n",
    "    cvs = cv_list.find_elements(By.TAG_NAME, \"tr\")\n",
    "    for cv in cvs[1:]:\n",
    "        columns = cv.find_elements(By.TAG_NAME, \"td\")\n",
    "        cv_name = columns[0]\n",
    "        cv_roles_cell = columns[1]\n",
    "        cv_roles = cv_roles_cell.find_elements(By.TAG_NAME,\"span\")\n",
    "        show_btn = cv_roles[-1]\n",
    "        if len(cv_roles) > 1:\n",
    "            cv_roles = cv_roles[:-1]\n",
    "        cv_name_en = cv_name.find_element(By.TAG_NAME, 'rt').text\n",
    "        cv_roles_names = []\n",
    "        for role in cv_roles:\n",
    "            cv_roles_names.append(role.get_attribute('data-name'))\n",
    "        cv_roles_list = ', '.join(cv_roles_names)\n",
    "        try:\n",
    "            show_btn.send_keys(selenium.webdriver.common.keys.Keys.SPACE)\n",
    "            cv_other_roles = cv_roles_cell.find_elements(By.TAG_NAME, 'li')\n",
    "            cv_other_roles_names = []\n",
    "            for role in cv_other_roles:\n",
    "                cv_other_roles_names.append(role.text)  \n",
    "            cv_other_roles_list = ', '.join(cv_other_roles_names)\n",
    "        except:\n",
    "            cv_other_roles_list = \"\"\n",
    "        df_temp = pd.DataFrame({'CV': cv_name_en, 'Roles': [cv_roles_list], 'Other Roles': [cv_other_roles_list]})\n",
    "        df = pd.concat([df, df_temp], ignore_index = True)"
   ]
  },
  {
   "cell_type": "code",
   "execution_count": 12,
   "id": "8cdbc582",
   "metadata": {
    "scrolled": true
   },
   "outputs": [
    {
     "data": {
      "text/html": [
       "<div>\n",
       "<style scoped>\n",
       "    .dataframe tbody tr th:only-of-type {\n",
       "        vertical-align: middle;\n",
       "    }\n",
       "\n",
       "    .dataframe tbody tr th {\n",
       "        vertical-align: top;\n",
       "    }\n",
       "\n",
       "    .dataframe thead th {\n",
       "        text-align: right;\n",
       "    }\n",
       "</style>\n",
       "<table border=\"1\" class=\"dataframe\">\n",
       "  <thead>\n",
       "    <tr style=\"text-align: right;\">\n",
       "      <th></th>\n",
       "      <th>CV</th>\n",
       "      <th>Roles</th>\n",
       "      <th>Other Roles</th>\n",
       "    </tr>\n",
       "  </thead>\n",
       "  <tbody>\n",
       "    <tr>\n",
       "      <th>0</th>\n",
       "      <td>Abe Atsushi</td>\n",
       "      <td>Castle-3, Spot</td>\n",
       "      <td>Inojin Yamanaka (Boruto), Moritaka Mashiro (Ba...</td>\n",
       "    </tr>\n",
       "    <tr>\n",
       "      <th>1</th>\n",
       "      <td>Aida Rikako</td>\n",
       "      <td>Quartz</td>\n",
       "      <td>Riko Sakurauchi (Love Live! Sunshine!!), Yuna ...</td>\n",
       "    </tr>\n",
       "    <tr>\n",
       "      <th>2</th>\n",
       "      <td>Aihara Kotomi</td>\n",
       "      <td>Erato</td>\n",
       "      <td>Shiki Ichinose (The iDOLM@STER Cinderella Girl...</td>\n",
       "    </tr>\n",
       "    <tr>\n",
       "      <th>3</th>\n",
       "      <td>Akao Hikaru</td>\n",
       "      <td>Bubble</td>\n",
       "      <td>Kaoruko Moeta (Comic Girls), Koharu Shimoe (Bl...</td>\n",
       "    </tr>\n",
       "    <tr>\n",
       "      <th>4</th>\n",
       "      <td>Akesaka Satomi</td>\n",
       "      <td>Aurora</td>\n",
       "      <td>Esdeath (Akame ga Kill!), Chrome Dokuro (Katek...</td>\n",
       "    </tr>\n",
       "    <tr>\n",
       "      <th>...</th>\n",
       "      <td>...</td>\n",
       "      <td>...</td>\n",
       "      <td>...</td>\n",
       "    </tr>\n",
       "    <tr>\n",
       "      <th>205</th>\n",
       "      <td>Yukana</td>\n",
       "      <td>Dusk</td>\n",
       "      <td>C.C. (Code Geass), Tear Grants (Tales of the A...</td>\n",
       "    </tr>\n",
       "    <tr>\n",
       "      <th>206</th>\n",
       "      <td>Yūki Aoi</td>\n",
       "      <td>Earthspirit, Istina, Nian</td>\n",
       "      <td>Madoka Kaname (Puella Magi Madoka Magica), Tan...</td>\n",
       "    </tr>\n",
       "    <tr>\n",
       "      <th>207</th>\n",
       "      <td>Yūki Kana</td>\n",
       "      <td>Gitano, Myrrh</td>\n",
       "      <td>Noelle Silva, Acier Silva (Black Clover), Supe...</td>\n",
       "    </tr>\n",
       "    <tr>\n",
       "      <th>208</th>\n",
       "      <td>Yukino Satsuki</td>\n",
       "      <td>Justice Knight</td>\n",
       "      <td>Kagome Higurashi (Inuyasha), Nenene Sumiregawa...</td>\n",
       "    </tr>\n",
       "    <tr>\n",
       "      <th>209</th>\n",
       "      <td>Yuzuki Ryoka</td>\n",
       "      <td>Touch</td>\n",
       "      <td>Ino Yamanaka (Naruto), Satsuki Kiryuin (Kill l...</td>\n",
       "    </tr>\n",
       "  </tbody>\n",
       "</table>\n",
       "<p>210 rows × 3 columns</p>\n",
       "</div>"
      ],
      "text/plain": [
       "                 CV                      Roles  \\\n",
       "0       Abe Atsushi             Castle-3, Spot   \n",
       "1       Aida Rikako                     Quartz   \n",
       "2     Aihara Kotomi                      Erato   \n",
       "3       Akao Hikaru                     Bubble   \n",
       "4    Akesaka Satomi                     Aurora   \n",
       "..              ...                        ...   \n",
       "205          Yukana                       Dusk   \n",
       "206        Yūki Aoi  Earthspirit, Istina, Nian   \n",
       "207       Yūki Kana              Gitano, Myrrh   \n",
       "208  Yukino Satsuki             Justice Knight   \n",
       "209    Yuzuki Ryoka                      Touch   \n",
       "\n",
       "                                           Other Roles  \n",
       "0    Inojin Yamanaka (Boruto), Moritaka Mashiro (Ba...  \n",
       "1    Riko Sakurauchi (Love Live! Sunshine!!), Yuna ...  \n",
       "2    Shiki Ichinose (The iDOLM@STER Cinderella Girl...  \n",
       "3    Kaoruko Moeta (Comic Girls), Koharu Shimoe (Bl...  \n",
       "4    Esdeath (Akame ga Kill!), Chrome Dokuro (Katek...  \n",
       "..                                                 ...  \n",
       "205  C.C. (Code Geass), Tear Grants (Tales of the A...  \n",
       "206  Madoka Kaname (Puella Magi Madoka Magica), Tan...  \n",
       "207  Noelle Silva, Acier Silva (Black Clover), Supe...  \n",
       "208  Kagome Higurashi (Inuyasha), Nenene Sumiregawa...  \n",
       "209  Ino Yamanaka (Naruto), Satsuki Kiryuin (Kill l...  \n",
       "\n",
       "[210 rows x 3 columns]"
      ]
     },
     "execution_count": 12,
     "metadata": {},
     "output_type": "execute_result"
    }
   ],
   "source": [
    "df"
   ]
  },
  {
   "cell_type": "code",
   "execution_count": 13,
   "id": "629a1a5d",
   "metadata": {
    "id": "629a1a5d"
   },
   "outputs": [],
   "source": [
    "# backup\n",
    "initial_df = df.copy()"
   ]
  },
  {
   "cell_type": "code",
   "execution_count": 14,
   "id": "5b6b6a70",
   "metadata": {
    "id": "5b6b6a70",
    "outputId": "24e5094e-2386-43c3-c7b5-ec724605df01"
   },
   "outputs": [
    {
     "data": {
      "text/plain": [
       "210"
      ]
     },
     "execution_count": 14,
     "metadata": {},
     "output_type": "execute_result"
    }
   ],
   "source": [
    "len(df)"
   ]
  },
  {
   "cell_type": "code",
   "execution_count": 15,
   "id": "136c6a97",
   "metadata": {
    "id": "136c6a97"
   },
   "outputs": [],
   "source": [
    "#Save csv\n",
    "df.to_csv('arknights-japanese-cvs.csv')"
   ]
  }
 ],
 "metadata": {
  "colab": {
   "provenance": []
  },
  "kernelspec": {
   "display_name": "Python 3 (ipykernel)",
   "language": "python",
   "name": "python3"
  },
  "language_info": {
   "codemirror_mode": {
    "name": "ipython",
    "version": 3
   },
   "file_extension": ".py",
   "mimetype": "text/x-python",
   "name": "python",
   "nbconvert_exporter": "python",
   "pygments_lexer": "ipython3",
   "version": "3.11.1"
  }
 },
 "nbformat": 4,
 "nbformat_minor": 5
}
